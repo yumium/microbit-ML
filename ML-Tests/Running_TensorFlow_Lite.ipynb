{
  "nbformat": 4,
  "nbformat_minor": 0,
  "metadata": {
    "colab": {
      "name": "Running TensorFlow Lite",
      "provenance": [],
      "collapsed_sections": []
    },
    "kernelspec": {
      "display_name": "Python 3",
      "name": "python3"
    }
  },
  "cells": [
    {
      "cell_type": "markdown",
      "metadata": {
        "id": "ufxBm1yRnruN"
      },
      "source": [
        "# Running TensorFlow Lite\n",
        "\n",
        "Used for testing the TensorFlow Lite model saved in a .tflite file, and for conversion between different model saves—namely JSON, TFLite and C++ array. A version of this Python Notebook is also available in [Google Colab](https://colab.research.google.com/drive/1ZAGQhiArxe6b9JMmk2VSAsHhb_gqRuf_?usp=sharing)—you will be required to upload the `label_image.py` and `xxdi.py` scripts to the notebook there, as well as `my-model.json` and `my-model.weights.bin` files to be translated.\n"
      ]
    },
    {
      "cell_type": "markdown",
      "metadata": {
        "id": "8VoSFxcu9WN1"
      },
      "source": [
        "### Dependencies\n",
        "Install dependencies needed to run the converter, namely TensorFlowJS and a TFLite runtime built for Python."
      ]
    },
    {
      "cell_type": "code",
      "metadata": {
        "id": "UKJ2v5aTHeIj",
        "colab": {
          "base_uri": "https://localhost:8080/"
        },
        "outputId": "39871d44-cc3c-4fdd-ffc0-44a9f6e4d217"
      },
      "source": [
        "!pip install tensorflowjs\n",
        "!pip3 install --extra-index-url https://google-coral.github.io/py-repo/ tflite_runtime"
      ],
      "execution_count": 1,
      "outputs": [
        {
          "output_type": "error",
          "ename": "Error",
          "evalue": "Jupyter cannot be started. Error attempting to locate jupyter: Data Science libraries notebook and jupyter are not installed in interpreter Python 3.8.8 64-bit ('microbit-ml': conda).",
          "traceback": [
            "Error: Jupyter cannot be started. Error attempting to locate jupyter: Data Science libraries notebook and jupyter are not installed in interpreter Python 3.8.8 64-bit ('microbit-ml': conda).",
            "at S.startServer (/Users/cara/.vscode/extensions/ms-toolsai.jupyter-2021.3.619093157/out/client/extension.js:49:381647)",
            "at async S.createServer (/Users/cara/.vscode/extensions/ms-toolsai.jupyter-2021.3.619093157/out/client/extension.js:49:380942)",
            "at async connect (/Users/cara/.vscode/extensions/ms-toolsai.jupyter-2021.3.619093157/out/client/extension.js:49:494147)",
            "at async T.ensureConnectionAndNotebookImpl (/Users/cara/.vscode/extensions/ms-toolsai.jupyter-2021.3.619093157/out/client/extension.js:32:615097)",
            "at async T.ensureConnectionAndNotebook (/Users/cara/.vscode/extensions/ms-toolsai.jupyter-2021.3.619093157/out/client/extension.js:32:613351)",
            "at async T.clearResult (/Users/cara/.vscode/extensions/ms-toolsai.jupyter-2021.3.619093157/out/client/extension.js:32:609013)",
            "at async T.reexecuteCell (/Users/cara/.vscode/extensions/ms-toolsai.jupyter-2021.3.619093157/out/client/extension.js:32:595280)",
            "at async T.reexecuteCells (/Users/cara/.vscode/extensions/ms-toolsai.jupyter-2021.3.619093157/out/client/extension.js:32:591484)"
          ]
        }
      ]
    },
    {
      "cell_type": "markdown",
      "metadata": {
        "id": "EP3udC9a9ooV"
      },
      "source": [
        "### Convert JSON to TFLite Model\n",
        "\n",
        "The converter script below inputs a saved TensorFlow model in JSON format (named \"my-model.json\"), along with the model weights stored in a .bin file (\"my-model.weights.bin\"), and converts it into a TFLite model. This is saved as \"converted_model.tflite\"."
      ]
    },
    {
      "cell_type": "code",
      "metadata": {
        "id": "LbFz1E9qHMs4",
        "colab": {
          "base_uri": "https://localhost:8080/"
        },
        "outputId": "4f71c8a2-3438-4a1c-f198-a247ba64e4ea"
      },
      "source": [
        "import tensorflow as tf\n",
        "import os\n",
        "import tensorflowjs as tfjs\n",
        "\n",
        "model = tfjs.converters.load_keras_model(\"my-model.json\")\n",
        "model.save(\"directory\")\n",
        "\n",
        "converter = tf.lite.TFLiteConverter.from_saved_model(\"directory\")\n",
        "tflite_model = converter.convert()\n",
        "open(\"converted_model.tflite\", \"wb\").write(tflite_model)\n",
        "\n",
        "os.system(\"pause\")"
      ],
      "execution_count": 2,
      "outputs": [
        {
          "output_type": "stream",
          "text": [
            "INFO:tensorflow:Assets written to: directory/assets\n"
          ],
          "name": "stdout"
        },
        {
          "output_type": "execute_result",
          "data": {
            "text/plain": [
              "32512"
            ]
          },
          "metadata": {
            "tags": []
          },
          "execution_count": 2
        }
      ]
    },
    {
      "cell_type": "markdown",
      "metadata": {
        "id": "it7VTmwv__SB"
      },
      "source": [
        "### Run the Model\n",
        "\n",
        "A function called [`label_image.py`](https://github.com/tensorflow/tensorflow/blob/master/tensorflow/lite/examples/python/label_image.py) loads TFLite in Python and runs inference on an input array of 70 0's and 1's using a specified model.tflite file. This Python function is a modified version of the [script](https://github.com/tensorflow/tensorflow/tree/master/tensorflow/lite/examples/python/) provided in the TensorFlow instructions for [running inference in Python](https://www.tensorflow.org/lite/guide/python#run_an_inference_using_tflite_runtime).\n",
        "\n",
        "The output is an array containing:\n",
        "1. The failure / mismatch probability\n",
        "2. The success / match probability\n",
        "\n",
        "That is, the output is of the form [$P[\\mathrm{fail}], P[\\mathrm{match}]$]."
      ]
    },
    {
      "cell_type": "code",
      "metadata": {
        "id": "IypR0XV_JR18",
        "colab": {
          "base_uri": "https://localhost:8080/"
        },
        "outputId": "fed3d46f-4689-4470-9843-86143e97d377"
      },
      "source": [
        "!python label_image.py -m \"converted_model.tflite\" -i [0,1,0,0,0,0,0,0,0,0,0,0,0,0,0,0,0,0,0,0,0,0,0,0,0,0,0,0,0,0,0,0,0,0,1,1,1,1,1,1,1,1,1,1,1,1,1,1,1,1,1,1,1,1,1,1,1,1,1,1,1,1,1,1,1,1,1,0,0,0]"
      ],
      "execution_count": 7,
      "outputs": [
        {
          "output_type": "stream",
          "text": [
            "input_details\n",
            "[{'name': 'serving_default_dense_Dense1_input:0', 'index': 0, 'shape': array([ 1, 70], dtype=int32), 'shape_signature': array([-1, 70], dtype=int32), 'dtype': <class 'numpy.float32'>, 'quantization': (0.0, 0), 'quantization_parameters': {'scales': array([], dtype=float32), 'zero_points': array([], dtype=int32), 'quantized_dimension': 0}, 'sparsity_parameters': {}}]\n",
            "prelim_input: 0,1,0,0,0,0,0,0,0,0,0,0,0,0,0,0,0,0,0,0,0,0,0,0,0,0,0,0,0,0,0,0,0,0,1,1,1,1,1,1,1,1,1,1,1,1,1,1,1,1,1,1,1,1,1,1,1,1,1,1,1,1,1,1,1,1,1,0,0,0\n",
            "float_input: 0.0,1.0,0.0,0.0,0.0,0.0,0.0,0.0,0.0,0.0,0.0,0.0,0.0,0.0,0.0,0.0,0.0,0.0,0.0,0.0,0.0,0.0,0.0,0.0,0.0,0.0,0.0,0.0,0.0,0.0,0.0,0.0,0.0,0.0,1.0,1.0,1.0,1.0,1.0,1.0,1.0,1.0,1.0,1.0,1.0,1.0,1.0,1.0,1.0,1.0,1.0,1.0,1.0,1.0,1.0,1.0,1.0,1.0,1.0,1.0,1.0,1.0,1.0,1.0,1.0,1.0,1.0,0.0,0.0,0.0\n",
            "output: [0.4546971 0.5453029]\n"
          ],
          "name": "stdout"
        }
      ]
    },
    {
      "cell_type": "markdown",
      "metadata": {
        "id": "3zjH_4b1WBma"
      },
      "source": [
        "Here are some sample inputs to the Clap Detector module that have been used for testing purposes:\n",
        "\n",
        "\n",
        "empty_array = [0,0,0,0,0,0,0,0,0,0,0,0,0,0,0,0,0,0,0,0,0,0,0,0,0,0,0,0,0,0,0,0,0,0,0,0,0,0,0,0,0,0,0,0,0,0,0,0,0,0,0,0,0,0,0,0,0,0,0,0,0,0,0,0,0,0,0,0,0,0]\n",
        "\n",
        "fail_test = [0,0,0,0,0,0,0,0,0,0,0,0,0,0,0,0,0,0,0,0,0,0,0,0,0,0,0,0,0,0,0,0,0,0,0,0,0,0,0,1,0,0,0,0,0,0,0,0,0,0,0,0,0,1,1,1,1,1,1,1,1,1,1,1,1,1,1,1,1,1]\n",
        "\n",
        "success_test = [0,0,0,0,0,0,0,0,0,0,0,0,0,0,0,0,0,0,0,0,0,0,0,0,1,1,0,0,0,0,0,1,0,0,0,0,0,0,1,1,0,0,0,0,0,1,1,0,0,0,0,0,0,1,1,0,0,0,0,0,0,0,0,0,0,0,0,0,0,0]\n",
        "\n",
        "false_pos = [0,1,0,0,0,0,0,0,0,0,0,0,0,0,0,0,0,0,0,0,0,0,0,0,0,0,0,0,0,0,0,0,0,0,1,1,1,1,1,1,1,1,1,1,1,1,1,1,1,1,1,1,1,1,1,1,1,1,1,1,1,1,1,1,1,1,1,0,0,0]\n",
        "\n",
        "\n",
        "Note that if the Clap Detector model is changed from the default provided, the results of inference on the above data may differ."
      ]
    },
    {
      "cell_type": "markdown",
      "metadata": {
        "id": "513xLjWGCsXJ"
      },
      "source": [
        "### Convert TFLite Model to C++\n",
        "\n",
        "This Python script converts the provided TFLite model into a C++ array of unsigned characters, which is compatible with the TFLite for microcontrollers build run on the micro:bit.\n",
        "\n",
        "The default input is \"converted_model.tflite\" and the default output is \"converted_model.cpp\", although these parameters can be specified if desired."
      ]
    },
    {
      "cell_type": "code",
      "metadata": {
        "colab": {
          "base_uri": "https://localhost:8080/"
        },
        "id": "wdQmn86IC6YD",
        "outputId": "1118f533-c56a-42ba-bd13-5b8a3b1125ba"
      },
      "source": [
        "!python xxdi.py converted_model.tflite converted_model.cpp"
      ],
      "execution_count": 9,
      "outputs": [
        {
          "output_type": "stream",
          "text": [
            "infile: converted_model.tflite\n",
            "outfile: converted_model.cpp\n"
          ],
          "name": "stdout"
        }
      ]
    }
  ]
}